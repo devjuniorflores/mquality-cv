{
 "cells": [
  {
   "cell_type": "code",
   "execution_count": null,
   "id": "7012b3fd",
   "metadata": {},
   "outputs": [],
   "source": [
    "from detectron2.data.datasets import register_coco_instances\n",
    "\n",
    "register_coco_instances(\"mi_dataset_train\", {}, \"data/coco_train.json\", \"data/images/train\")\n",
    "register_coco_instances(\"mi_dataset_val\", {}, \"data/coco_val.json\", \"data/images/val\")"
   ]
  }
 ],
 "metadata": {
  "kernelspec": {
   "display_name": ".venvFDetectron2",
   "language": "python",
   "name": "python3"
  },
  "language_info": {
   "name": "python",
   "version": "3.12.3"
  }
 },
 "nbformat": 4,
 "nbformat_minor": 5
}
