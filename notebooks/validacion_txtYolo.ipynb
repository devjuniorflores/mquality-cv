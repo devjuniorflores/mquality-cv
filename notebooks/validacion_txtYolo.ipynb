{
 "cells": [
  {
   "cell_type": "code",
   "execution_count": 9,
   "id": "e5f2743e",
   "metadata": {},
   "outputs": [
    {
     "name": "stdout",
     "output_type": "stream",
     "text": [
      "Todos los archivos .txt están correctos.\n"
     ]
    }
   ],
   "source": [
    "import os\n",
    "\n",
    "def validar_yolo_txt(ruta_carpeta):\n",
    "    errores = []\n",
    "    for nombre_archivo in os.listdir(ruta_carpeta):\n",
    "        if nombre_archivo.endswith('.txt'):\n",
    "            ruta_archivo = os.path.join(ruta_carpeta, nombre_archivo)\n",
    "            with open(ruta_archivo, 'r') as f:\n",
    "                lineas = f.readlines()\n",
    "            for i, linea in enumerate(lineas, start=1):\n",
    "                partes = linea.strip().split()\n",
    "                # Deben ser 5 partes: clase, x_center, y_center, width, height\n",
    "                if len(partes) != 5:\n",
    "                    errores.append(f\"{nombre_archivo} línea {i}: cantidad incorrecta de valores\")\n",
    "                    continue\n",
    "                clase, x, y, w, h = partes\n",
    "                try:\n",
    "                    x, y, w, h = map(float, (x, y, w, h))\n",
    "                except ValueError:\n",
    "                    errores.append(f\"{nombre_archivo} línea {i}: valores no numéricos\")\n",
    "                    continue\n",
    "                # Verificar que estén entre 0 y 1\n",
    "                if not (0 <= x <= 1 and 0 <= y <= 1 and 0 <= w <= 1 and 0 <= h <= 1):\n",
    "                    errores.append(f\"{nombre_archivo} línea {i}: valores fuera de rango [0,1]\")\n",
    "    if errores:\n",
    "        print(\"Errores encontrados:\")\n",
    "        for err in errores:\n",
    "            print(\" -\", err)\n",
    "    else:\n",
    "        print(\"Todos los archivos .txt están correctos.\")\n",
    "\n",
    "# Ejemplo de uso:\n",
    "validar_yolo_txt('../data/raw/annotations_yolo/obj_train_data') \n"
   ]
  }
 ],
 "metadata": {
  "kernelspec": {
   "display_name": ".venv",
   "language": "python",
   "name": "python3"
  },
  "language_info": {
   "codemirror_mode": {
    "name": "ipython",
    "version": 3
   },
   "file_extension": ".py",
   "mimetype": "text/x-python",
   "name": "python",
   "nbconvert_exporter": "python",
   "pygments_lexer": "ipython3",
   "version": "3.12.3"
  }
 },
 "nbformat": 4,
 "nbformat_minor": 5
}
