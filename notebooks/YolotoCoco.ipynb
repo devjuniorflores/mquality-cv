{
 "cells": [
  {
   "cell_type": "code",
   "execution_count": 4,
   "id": "4e5b9351",
   "metadata": {},
   "outputs": [
    {
     "name": "stdout",
     "output_type": "stream",
     "text": [
      "COCO JSON guardado en: ../data/coco/coco_train.json\n",
      "COCO JSON guardado en: ../data/coco/coco_val.json\n"
     ]
    }
   ],
   "source": [
    "import os\n",
    "import json\n",
    "from pathlib import Path\n",
    "from PIL import Image\n",
    "\n",
    "# 📌 Configuración de clases (debe coincidir con tu data.yaml de YOLO)\n",
    "categories = [\n",
    "    {\"id\": 1, \"name\": \"person\"},\n",
    "    # Agrega más clases según corresponda\n",
    "]\n",
    "\n",
    "# 📂 Carpeta base del dataset YOLO\n",
    "base_dir = Path(\"../data/yolo\")\n",
    "output_dir = Path(\"../data/coco\")\n",
    "splits = [\"train\", \"val\"]  # conjuntos a procesar\n",
    "\n",
    "os.makedirs(output_dir, exist_ok=True)\n",
    "\n",
    "def yolo_to_coco(images_dir, labels_dir, output_json):\n",
    "    \"\"\"\n",
    "    Convierte anotaciones YOLO a formato COCO.\n",
    "    \"\"\"\n",
    "    coco_format = {\n",
    "        \"images\": [],\n",
    "        \"annotations\": [],\n",
    "        \"categories\": categories\n",
    "    }\n",
    "\n",
    "    annotation_id = 0\n",
    "    for img_id, img_file in enumerate(sorted(images_dir.glob(\"*.png\"))):\n",
    "        with Image.open(img_file) as im:\n",
    "            width, height = im.size\n",
    "\n",
    "        coco_format[\"images\"].append({\n",
    "            \"id\": img_id,\n",
    "            \"file_name\": img_file.name,\n",
    "            \"width\": width,\n",
    "            \"height\": height\n",
    "        })\n",
    "\n",
    "        label_file = labels_dir / f\"{img_file.stem}.txt\"\n",
    "        if not label_file.exists():\n",
    "            continue\n",
    "\n",
    "        with open(label_file, \"r\") as lf:\n",
    "            for line in lf:\n",
    "                cls, x_center, y_center, w, h = map(float, line.strip().split())\n",
    "\n",
    "                x_min = (x_center - w/2) * width\n",
    "                y_min = (y_center - h/2) * height\n",
    "                w_px = w * width\n",
    "                h_px = h * height\n",
    "\n",
    "                coco_format[\"annotations\"].append({\n",
    "                    \"id\": annotation_id,\n",
    "                    \"image_id\": img_id,\n",
    "                    \"category_id\": int(cls),\n",
    "                    \"bbox\": [x_min, y_min, w_px, h_px],\n",
    "                    \"area\": w_px * h_px,\n",
    "                    \"iscrowd\": 0\n",
    "                })\n",
    "                annotation_id += 1\n",
    "\n",
    "\n",
    "    with open(output_json, \"w\") as f:\n",
    "        json.dump(coco_format, f, indent=4)\n",
    "\n",
    "    print(f\"COCO JSON guardado en: {output_json}\")\n",
    " \n",
    "\n",
    "# 🔄 Procesar train y val\n",
    "for split in splits:\n",
    "    images_dir = base_dir / \"images\" / split\n",
    "    labels_dir = base_dir / \"labels\" / split\n",
    "    output_json = output_dir / f\"coco_{split}.json\"\n",
    "\n",
    "    yolo_to_coco(images_dir, labels_dir, output_json)\n"
   ]
  },
  {
   "cell_type": "markdown",
   "id": "571f1142",
   "metadata": {},
   "source": [
    "### Split dir on bash"
   ]
  },
  {
   "cell_type": "code",
   "execution_count": null,
   "id": "763c543f",
   "metadata": {
    "vscode": {
     "languageId": "bat"
    }
   },
   "outputs": [],
   "source": [
    "!pip install pycocotools\n",
    "python3 yolo_to_coco.py --yolo_dir ./data --output_dir ./coco_annotations"
   ]
  }
 ],
 "metadata": {
  "kernelspec": {
   "display_name": ".venv",
   "language": "python",
   "name": "python3"
  },
  "language_info": {
   "codemirror_mode": {
    "name": "ipython",
    "version": 3
   },
   "file_extension": ".py",
   "mimetype": "text/x-python",
   "name": "python",
   "nbconvert_exporter": "python",
   "pygments_lexer": "ipython3",
   "version": "3.12.3"
  }
 },
 "nbformat": 4,
 "nbformat_minor": 5
}
