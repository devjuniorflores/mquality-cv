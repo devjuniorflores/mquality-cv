{
 "cells": [
  {
   "cell_type": "code",
   "execution_count": 38,
   "id": "4cf34014",
   "metadata": {},
   "outputs": [
    {
     "name": "stdout",
     "output_type": "stream",
     "text": [
      "Archivo cargado exitosamente en: ../data/processed/updateframe_0001.png\n",
      "Archivo cargado exitosamente en: ../data/processed/updateframe_0002.png\n",
      "Archivo cargado exitosamente en: ../data/processed/updateframe_0003.png\n",
      "Archivo cargado exitosamente en: ../data/processed/updateframe_0004.png\n",
      "Archivo cargado exitosamente en: ../data/processed/updateframe_0005.png\n",
      "Archivo cargado exitosamente en: ../data/processed/updateframe_0006.png\n",
      "Archivo cargado exitosamente en: ../data/processed/updateframe_0007.png\n"
     ]
    }
   ],
   "source": [
    "import cv2\n",
    "import matplotlib.pyplot as plt\n",
    "import os \n",
    "\n",
    "ruta_directorio = '../data/processed'\n",
    "\n",
    "elementos = os.listdir(ruta_directorio)\n",
    "\n",
    "for img in elementos:\n",
    "    \n",
    "    img_bgr = cv2.imread(f'{ruta_directorio}/{img}')\n",
    "     \n",
    "    cv2.imwrite(f'{ruta_directorio}/update{img}', img_bgr)\n",
    "    \n",
    "    print(f\"Archivo cargado exitosamente en: {ruta_directorio}/update{img}\" )\n",
    "    "
   ]
  },
  {
   "cell_type": "code",
   "execution_count": 44,
   "id": "b3249988",
   "metadata": {},
   "outputs": [
    {
     "data": {
      "text/plain": [
       "True"
      ]
     },
     "execution_count": 44,
     "metadata": {},
     "output_type": "execute_result"
    }
   ],
   "source": [
    "path = '../data/processed/frame_0001.png'\n",
    "\n",
    "img_bgr = cv2.imread(path)\n",
    "\n",
    "# Resize\n",
    "resized = cv2.resize(img_bgr, (300, 300))\n",
    "\n",
    "# Crop (cortar región)\n",
    "crop = img_bgr[50:200, 100:300]\n",
    "\n",
    "cv2.imwrite('../data/processed/resized_opencv.png', resized)\n",
    "cv2.imwrite('../data/processed/crop_opencv.png', crop)"
   ]
  },
  {
   "cell_type": "code",
   "execution_count": 40,
   "id": "4a588250",
   "metadata": {},
   "outputs": [],
   "source": [
    "from PIL import Image\n",
    "\n",
    "img = Image.open('../data/processed/frame_0001.png')\n",
    "\n",
    "# Resize\n",
    "img_resized = img.resize((300, 300))\n",
    "img_resized.save('../data/processed/resized_pil.png')\n",
    "\n",
    "# Crop\n",
    "img_cropped = img.crop((100, 50, 300, 200))  \n",
    "img_cropped.save('../data/processed/crop_pil.png')"
   ]
  }
 ],
 "metadata": {
  "kernelspec": {
   "display_name": ".venv",
   "language": "python",
   "name": "python3"
  },
  "language_info": {
   "codemirror_mode": {
    "name": "ipython",
    "version": 3
   },
   "file_extension": ".py",
   "mimetype": "text/x-python",
   "name": "python",
   "nbconvert_exporter": "python",
   "pygments_lexer": "ipython3",
   "version": "3.12.3"
  }
 },
 "nbformat": 4,
 "nbformat_minor": 5
}
