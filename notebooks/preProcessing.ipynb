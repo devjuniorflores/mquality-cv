{
 "cells": [
  {
   "cell_type": "markdown",
   "id": "42ad2fb3",
   "metadata": {},
   "source": [
    "### Resizing"
   ]
  },
  {
   "cell_type": "code",
   "execution_count": null,
   "id": "d609659a",
   "metadata": {},
   "outputs": [],
   "source": [
    "import os\n",
    "import cv2\n",
    "\n",
    "RAW_DIR = \"../data/raw/frames_video\"\n",
    "RESIZE_DIR = \"../data/temp/resize\"\n",
    "os.makedirs(RESIZE_DIR, exist_ok=True)\n",
    "\n",
    "TARGET_SIZE = (640, 640)  # ancho, alto\n",
    "\n",
    "def resize_image(img_path, target_size):\n",
    "    img = cv2.imread(img_path)\n",
    "    return cv2.resize(img, target_size)\n",
    "\n",
    "for img_name in os.listdir(RAW_DIR):\n",
    "        img_path = os.path.join(RAW_DIR, img_name)\n",
    "        resized = resize_image(img_path, TARGET_SIZE)\n",
    "        cv2.imwrite(os.path.join(RESIZE_DIR, img_name), resized)"
   ]
  },
  {
   "cell_type": "markdown",
   "id": "65fa6774",
   "metadata": {},
   "source": [
    "### Normalizing"
   ]
  },
  {
   "cell_type": "code",
   "execution_count": 7,
   "id": "7aa63f63",
   "metadata": {},
   "outputs": [],
   "source": [
    "import os\n",
    "import cv2\n",
    "import numpy as np\n",
    "\n",
    "RESIZE_DIR = \"../data/temp/resize\"\n",
    "NORMALIZED_DIR = \"../data/temp/normalized\"\n",
    "os.makedirs(NORMALIZED_DIR, exist_ok=True)\n",
    "\n",
    "def normalize_image(img):\n",
    "    return img.astype(np.float32) / 255.0  # rango 0–1\n",
    "\n",
    "for img_name in os.listdir(RESIZE_DIR):\n",
    "    img_path = os.path.join(RESIZE_DIR, img_name)\n",
    "    img = cv2.imread(img_path)\n",
    "    normalized = normalize_image(img)\n",
    "    cv2.imwrite(os.path.join(NORMALIZED_DIR, img_name), (normalized * 255).astype(np.uint8))"
   ]
  },
  {
   "cell_type": "markdown",
   "id": "3b147bc1",
   "metadata": {},
   "source": [
    "### Augmentation"
   ]
  },
  {
   "cell_type": "code",
   "execution_count": 8,
   "id": "3c96eb35",
   "metadata": {},
   "outputs": [],
   "source": [
    "import os\n",
    "import cv2\n",
    "import albumentations as A\n",
    "\n",
    "NORMALIZED_DIR = \"../data/temp/normalized\"\n",
    "AUGMENTED_DIR = \"../data/temp/augmented\"\n",
    "os.makedirs(AUGMENTED_DIR, exist_ok=True)\n",
    "\n",
    "transform = A.Compose([\n",
    "    A.Rotate(limit=20, p=0.5),\n",
    "    A.HorizontalFlip(p=0.5),\n",
    "    A.Blur(blur_limit=3, p=0.3),\n",
    "    A.ColorJitter(brightness=0.2, contrast=0.2, p=0.3)\n",
    "])\n",
    "\n",
    "def augment_image(img):\n",
    "    return transform(image=img)['image']\n",
    "\n",
    "for img_name in os.listdir(NORMALIZED_DIR):\n",
    "    img_path = os.path.join(NORMALIZED_DIR, img_name)\n",
    "    img = cv2.imread(img_path)\n",
    "    aug_img = augment_image(img)\n",
    "    cv2.imwrite(os.path.join(AUGMENTED_DIR, f\"aug_{img_name}\"), aug_img)"
   ]
  },
  {
   "cell_type": "markdown",
   "id": "b655c141",
   "metadata": {},
   "source": [
    "### AUGMENTATION (w yolo annotations)"
   ]
  },
  {
   "cell_type": "code",
   "execution_count": 18,
   "id": "d8c9e1ee",
   "metadata": {},
   "outputs": [],
   "source": [
    "import os\n",
    "import cv2\n",
    "import albumentations as A\n",
    "\n",
    "# Carpetas de entrada y salida\n",
    "NORMALIZED_IMG_DIR = \"../data/temp/normalized/\"\n",
    "YOLO_LABEL_DIR = \"../data/raw/annotations_yolo/obj_train_data\"\n",
    "AUGMENTED_IMG_DIR = \"../data/temp/augmented/images\"\n",
    "AUGMENTED_LABEL_DIR = \"../data/temp/augmented/labels\"\n",
    "\n",
    "os.makedirs(AUGMENTED_IMG_DIR, exist_ok=True)\n",
    "os.makedirs(AUGMENTED_LABEL_DIR, exist_ok=True)\n",
    "\n",
    "# Definición de augmentations\n",
    "transform = A.Compose([\n",
    "    A.Rotate(limit=20, p=0.5),\n",
    "    A.HorizontalFlip(p=0.5),\n",
    "    A.Blur(blur_limit=3, p=0.3),\n",
    "    A.ColorJitter(brightness=0.2, contrast=0.2, p=0.3)\n",
    "],\n",
    "    bbox_params=A.BboxParams(format='yolo', label_fields=['class_labels'])\n",
    ")\n",
    "\n",
    "# Función para leer etiquetas YOLO\n",
    "def read_yolo_labels(label_path):\n",
    "    bboxes = []\n",
    "    labels = []\n",
    "    with open(label_path, 'r') as f:\n",
    "        for line in f.readlines():\n",
    "            parts = line.strip().split()\n",
    "            cls_id = parts[0]\n",
    "            coords = list(map(float, parts[1:]))\n",
    "            bboxes.append(coords)\n",
    "            labels.append(cls_id)\n",
    "    return bboxes, labels\n",
    "\n",
    "# Función para guardar etiquetas YOLO\n",
    "def save_yolo_labels(label_path, bboxes, labels):\n",
    "    with open(label_path, 'w') as f:\n",
    "        for label, box in zip(labels, bboxes):\n",
    "            f.write(f\"{label} {' '.join(map(str, box))}\\n\")\n",
    "\n",
    "# Proceso de augmentación\n",
    "for img_file in os.listdir(NORMALIZED_IMG_DIR):\n",
    "    if not img_file.lower().endswith((\".jpg\", \".png\", \".jpeg\")):\n",
    "        continue\n",
    "\n",
    "    img_path = os.path.join(NORMALIZED_IMG_DIR, img_file)\n",
    "    label_path = os.path.join(YOLO_LABEL_DIR, img_file.rsplit('.', 1)[0] + \".txt\")\n",
    "\n",
    "    if not os.path.exists(label_path):\n",
    "        print(f\"⚠ No label para {img_file}, se omite.\")\n",
    "        continue\n",
    "\n",
    "    image = cv2.imread(img_path)\n",
    "    bboxes, labels = read_yolo_labels(label_path)\n",
    "\n",
    "    if len(bboxes) == 0:\n",
    "        cv2.imwrite(os.path.join(AUGMENTED_IMG_DIR, img_file), image)\n",
    "        save_yolo_labels(os.path.join(AUGMENTED_LABEL_DIR, img_file.replace('.jpg', '.txt')), [], [])\n",
    "        continue\n",
    "\n",
    "    transformed = transform(image=image, bboxes=bboxes, class_labels=labels)\n",
    "\n",
    "    # Guardar imagen aumentada\n",
    "    aug_img_name = f\"aug_{img_file}\"\n",
    "    cv2.imwrite(os.path.join(AUGMENTED_IMG_DIR, aug_img_name), transformed['image'])\n",
    "\n",
    "    # Guardar etiquetas aumentadas\n",
    "    aug_label_name = aug_img_name.replace('.png', '.txt')\n",
    "    save_yolo_labels(os.path.join(AUGMENTED_LABEL_DIR, aug_label_name),\n",
    "                     transformed['bboxes'], transformed['class_labels'])"
   ]
  },
  {
   "cell_type": "markdown",
   "id": "6fa5c062",
   "metadata": {},
   "source": [
    "### Add a seed"
   ]
  },
  {
   "cell_type": "code",
   "execution_count": 13,
   "id": "d6254202",
   "metadata": {},
   "outputs": [
    {
     "name": "stdout",
     "output_type": "stream",
     "text": [
      "Semillas fijadas para reproducibilidad (SEED=42)\n"
     ]
    }
   ],
   "source": [
    "import random\n",
    "import numpy as np\n",
    "\n",
    "SEED = 42\n",
    "\n",
    "random.seed(SEED)\n",
    "np.random.seed(SEED)\n",
    "\n",
    "# Si usas PyTorch:\n",
    "# import torch\n",
    "# torch.manual_seed(SEED)\n",
    "\n",
    "print(f\"Semillas fijadas para reproducibilidad (SEED={SEED})\")"
   ]
  },
  {
   "cell_type": "markdown",
   "id": "6d10282c",
   "metadata": {},
   "source": [
    "### Balanceo de Clases (by instances)"
   ]
  },
  {
   "cell_type": "code",
   "execution_count": 19,
   "id": "0cbf6c47",
   "metadata": {},
   "outputs": [
    {
     "name": "stdout",
     "output_type": "stream",
     "text": [
      "📊 Distribución inicial de clases: Counter({'0': 167})\n",
      "Balanceo completado.\n"
     ]
    }
   ],
   "source": [
    "import os\n",
    "import cv2\n",
    "import albumentations as A\n",
    "import random\n",
    "from collections import Counter\n",
    "import shutil\n",
    "\n",
    "# Carpetas\n",
    "IMG_DIR = \"../data/temp/augmented/images\"\n",
    "LABEL_DIR = \"../data/temp/augmented/labels\"\n",
    "OUTPUT_IMG_DIR = \"../data/temp/balanced/images\"\n",
    "OUTPUT_LABEL_DIR = \"../data/temp/balanced/labels\"\n",
    "\n",
    "os.makedirs(OUTPUT_IMG_DIR, exist_ok=True)\n",
    "os.makedirs(OUTPUT_LABEL_DIR, exist_ok=True)\n",
    "\n",
    "# Augmentations para oversampling\n",
    "transform = A.Compose([\n",
    "    A.RandomBrightnessContrast(p=0.4),\n",
    "    A.HorizontalFlip(p=0.5),\n",
    "    A.Rotate(limit=15, p=0.5)\n",
    "],\n",
    "    bbox_params=A.BboxParams(format='yolo', label_fields=['class_labels'])\n",
    ")\n",
    "\n",
    "# Leer etiquetas YOLO\n",
    "def read_yolo_labels(label_path):\n",
    "    bboxes = []\n",
    "    labels = []\n",
    "    with open(label_path, 'r') as f:\n",
    "        for line in f:\n",
    "            parts = line.strip().split()\n",
    "            cls_id = parts[0]\n",
    "            coords = list(map(float, parts[1:]))\n",
    "            bboxes.append(coords)\n",
    "            labels.append(cls_id)\n",
    "    return bboxes, labels\n",
    "\n",
    "# Guardar etiquetas YOLO\n",
    "def save_yolo_labels(label_path, bboxes, labels):\n",
    "    with open(label_path, 'w') as f:\n",
    "        for label, box in zip(labels, bboxes):\n",
    "            f.write(f\"{label} {' '.join(map(str, box))}\\n\")\n",
    "\n",
    "# Contar instancias por clase\n",
    "class_counts = Counter()\n",
    "label_files = [f for f in os.listdir(LABEL_DIR) if f.endswith('.txt')]\n",
    "\n",
    "for lf in label_files:\n",
    "    _, labels = read_yolo_labels(os.path.join(LABEL_DIR, lf))\n",
    "    class_counts.update(labels)\n",
    "\n",
    "print(\"📊 Distribución inicial de clases:\", class_counts)\n",
    "\n",
    "# Clase con más instancias\n",
    "max_count = max(class_counts.values())\n",
    "\n",
    "# Copiar todas las imágenes/labels originales\n",
    "for img_file in os.listdir(IMG_DIR):\n",
    "    if img_file.lower().endswith((\".jpg\", \".png\", \".jpeg\")):\n",
    "        shutil.copy(os.path.join(IMG_DIR, img_file), OUTPUT_IMG_DIR)\n",
    "        label_file = img_file.rsplit('.', 1)[0] + \".txt\"\n",
    "        shutil.copy(os.path.join(LABEL_DIR, label_file), OUTPUT_LABEL_DIR)\n",
    "\n",
    "# Oversampling para clases minoritarias\n",
    "for cls_id, count in class_counts.items():\n",
    "    if count < max_count:\n",
    "        needed = max_count - count\n",
    "        print(f\"🔄 Balanceando clase {cls_id}: +{needed} instancias\")\n",
    "\n",
    "        # Buscar imágenes que contengan esta clase\n",
    "        imgs_with_cls = []\n",
    "        for lf in label_files:\n",
    "            bboxes, labels = read_yolo_labels(os.path.join(LABEL_DIR, lf))\n",
    "            if cls_id in labels:\n",
    "                imgs_with_cls.append(lf.replace('.txt', '.jpg'))\n",
    "\n",
    "        # Crear imágenes aumentadas hasta completar\n",
    "        for i in range(needed):\n",
    "            img_name = random.choice(imgs_with_cls)\n",
    "            img_path = os.path.join(IMG_DIR, img_name)\n",
    "            label_path = os.path.join(LABEL_DIR, img_name.replace('.jpg', '.txt'))\n",
    "\n",
    "            image = cv2.imread(img_path)\n",
    "            bboxes, labels = read_yolo_labels(label_path)\n",
    "\n",
    "            transformed = transform(image=image, bboxes=bboxes, class_labels=labels)\n",
    "\n",
    "            aug_img_name = f\"{img_name.rsplit('.', 1)[0]}_bal{i}.jpg\"\n",
    "            cv2.imwrite(os.path.join(OUTPUT_IMG_DIR, aug_img_name), transformed['image'])\n",
    "\n",
    "            aug_label_name = aug_img_name.replace('.jpg', '.txt')\n",
    "            save_yolo_labels(os.path.join(OUTPUT_LABEL_DIR, aug_label_name),\n",
    "                             transformed['bboxes'], transformed['class_labels'])\n",
    "\n",
    "print(\"Balanceo completado.\")"
   ]
  },
  {
   "cell_type": "markdown",
   "id": "ad9f52bf",
   "metadata": {},
   "source": [
    "Esto significa que todas las anotaciones son de una sola clase (id 0)"
   ]
  },
  {
   "cell_type": "markdown",
   "id": "c2e45201",
   "metadata": {},
   "source": [
    "## Save Final Dataset "
   ]
  },
  {
   "cell_type": "code",
   "execution_count": 22,
   "id": "cd3ab7ca",
   "metadata": {},
   "outputs": [
    {
     "name": "stdout",
     "output_type": "stream",
     "text": [
      "✅ Total de pares válidos: 7\n",
      " Dataset final guardado en /mnt/c/Users/jndrs/Desktop/mquality-cv/notebooks/data/processed\n"
     ]
    }
   ],
   "source": [
    "# save_and_validate_dataset.py\n",
    "import os\n",
    "import shutil\n",
    "\n",
    "# Rutas de entrada y salida\n",
    "final_images_dir = \"../data/temp/balanced/images\"   # Carpeta con imágenes ya procesadas\n",
    "final_labels_dir = \"../data/temp//balanced/labels\"   # Carpeta con anotaciones YOLO\n",
    "output_images_dir = \"../data/processed/images\"\n",
    "output_labels_dir = \"../data/processed/labels\"\n",
    "\n",
    "# Crear carpetas de salida\n",
    "os.makedirs(output_images_dir, exist_ok=True)\n",
    "os.makedirs(output_labels_dir, exist_ok=True)\n",
    "\n",
    "# Función para obtener nombres base sin extensión\n",
    "def get_file_stems(folder, ext):\n",
    "    return {os.path.splitext(f)[0] for f in os.listdir(folder) if f.endswith(ext)}\n",
    "\n",
    "# Validar que cada imagen tenga su etiqueta y viceversa\n",
    "image_stems = get_file_stems(final_images_dir, \".jpg\") | get_file_stems(final_images_dir, \".png\")\n",
    "label_stems = get_file_stems(final_labels_dir, \".txt\")\n",
    "\n",
    "missing_labels = image_stems - label_stems\n",
    "missing_images = label_stems - image_stems\n",
    "\n",
    "if missing_labels:\n",
    "    print(f\"⚠️ Imágenes sin etiquetas: {missing_labels}\")\n",
    "if missing_images:\n",
    "    print(f\"⚠️ Etiquetas sin imágenes: {missing_images}\")\n",
    "\n",
    "# Filtrar solo los que están completos\n",
    "valid_stems = image_stems & label_stems\n",
    "print(f\"✅ Total de pares válidos: {len(valid_stems)}\")\n",
    "\n",
    "# 2️⃣ Guardar solo los archivos válidos\n",
    "for stem in valid_stems:\n",
    "    # Copiar imagen\n",
    "    for ext in [\".jpg\", \".png\"]:\n",
    "        src_img = os.path.join(final_images_dir, stem + ext)\n",
    "        if os.path.exists(src_img):\n",
    "            shutil.copy2(src_img, os.path.join(output_images_dir, stem + ext))\n",
    "            break\n",
    "    \n",
    "    # Copiar etiqueta\n",
    "    src_label = os.path.join(final_labels_dir, stem + \".txt\")\n",
    "    shutil.copy2(src_label, os.path.join(output_labels_dir, stem + \".txt\"))\n",
    "\n",
    "print(f\" Dataset final guardado en {os.path.abspath('data/processed')}\")\n"
   ]
  },
  {
   "cell_type": "markdown",
   "id": "50d21094",
   "metadata": {},
   "source": [
    "### Clasess Distribution"
   ]
  },
  {
   "cell_type": "code",
   "execution_count": 23,
   "id": "37bb07a0",
   "metadata": {},
   "outputs": [
    {
     "name": "stdout",
     "output_type": "stream",
     "text": [
      "📊 Distribución antes: Counter({'0': 167})\n",
      "📊 Distribución después: Counter({'0': 167})\n"
     ]
    },
    {
     "data": {
      "image/png": "[encoded data removed]",
      "text/plain": [
       "<Figure size 800x500 with 1 Axes>"
      ]
     },
     "metadata": {},
     "output_type": "display_data"
    }
   ],
   "source": [
    "# compare_class_distribution.py\n",
    "import os\n",
    "from collections import Counter\n",
    "import matplotlib.pyplot as plt\n",
    "\n",
    "# Carpetas antes y después del balanceo\n",
    "labels_before_dir = \"../data/raw/annotations_yolo/obj_train_data\"\n",
    "labels_after_dir = \"../data/processed/labels\"\n",
    "\n",
    "def count_classes(labels_dir):\n",
    "    class_counts = Counter()\n",
    "    for file in os.listdir(labels_dir):\n",
    "        if file.endswith(\".txt\"):\n",
    "            with open(os.path.join(labels_dir, file), \"r\") as f:\n",
    "                for line in f:\n",
    "                    if line.strip():\n",
    "                        cls_id = line.split()[0]\n",
    "                        class_counts[cls_id] += 1\n",
    "    return class_counts\n",
    "\n",
    "# 1️⃣ Contar clases\n",
    "counts_before = count_classes(labels_before_dir)\n",
    "counts_after = count_classes(labels_after_dir)\n",
    "\n",
    "print(f\"📊 Distribución antes: {counts_before}\")\n",
    "print(f\"📊 Distribución después: {counts_after}\")\n",
    "\n",
    "# 2️⃣ Graficar comparación\n",
    "classes = sorted(set(counts_before.keys()) | set(counts_after.keys()))\n",
    "before_vals = [counts_before.get(c, 0) for c in classes]\n",
    "after_vals = [counts_after.get(c, 0) for c in classes]\n",
    "\n",
    "plt.figure(figsize=(8, 5))\n",
    "bar_width = 0.35\n",
    "x = range(len(classes))\n",
    "\n",
    "plt.bar(x, before_vals, width=bar_width, label=\"Antes\", alpha=0.7)\n",
    "plt.bar([i + bar_width for i in x], after_vals, width=bar_width, label=\"Después\", alpha=0.7)\n",
    "\n",
    "plt.xticks([i + bar_width/2 for i in x], classes)\n",
    "plt.xlabel(\"Clase\")\n",
    "plt.ylabel(\"Cantidad de ejemplos\")\n",
    "plt.title(\"Distribución de clases antes y después del balanceo\")\n",
    "plt.legend()\n",
    "plt.tight_layout()\n",
    "plt.show()\n"
   ]
  }
 ],
 "metadata": {
  "kernelspec": {
   "display_name": ".venv",
   "language": "python",
   "name": "python3"
  },
  "language_info": {
   "codemirror_mode": {
    "name": "ipython",
    "version": 3
   },
   "file_extension": ".py",
   "mimetype": "text/x-python",
   "name": "python",
   "nbconvert_exporter": "python",
   "pygments_lexer": "ipython3",
   "version": "3.12.3"
  }
 },
 "nbformat": 4,
 "nbformat_minor": 5
}
